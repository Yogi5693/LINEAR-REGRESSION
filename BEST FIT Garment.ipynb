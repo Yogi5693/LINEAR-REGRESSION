{
 "cells": [
  {
   "cell_type": "markdown",
   "metadata": {},
   "source": [
    "# PREDICTION OF  BEST FIT GARMENT FOR CUSTOMER"
   ]
  },
  {
   "cell_type": "code",
   "execution_count": 1,
   "metadata": {},
   "outputs": [
    {
     "data": {
      "text/plain": [
       "['customer_details.json', 'dataset.json', 'task.pdf']"
      ]
     },
     "execution_count": 1,
     "metadata": {},
     "output_type": "execute_result"
    }
   ],
   "source": [
    "import json            #Aliasing\n",
    "import os\n",
    "import pandas as pd  \n",
    "import matplotlib.pyplot as plt\n",
    "%matplotlib inline\n",
    "import seaborn as sns\n",
    "\n",
    "os.chdir(\"C:\\\\Users\\\\Home\\\\Desktop\\\\Prescient- Automation\")\n",
    "os.listdir()"
   ]
  },
  {
   "cell_type": "markdown",
   "metadata": {},
   "source": [
    "## Importing Garment Data set"
   ]
  },
  {
   "cell_type": "code",
   "execution_count": 2,
   "metadata": {},
   "outputs": [],
   "source": [
    "Garmentdata=pd.read_json(\"dataset.json\",lines=True)"
   ]
  },
  {
   "cell_type": "markdown",
   "metadata": {},
   "source": [
    "## Creating New Data Frame with Dropped Nan Values "
   ]
  },
  {
   "cell_type": "code",
   "execution_count": 3,
   "metadata": {},
   "outputs": [],
   "source": [
    "Data=Garmentdata.dropna(axis=0,how=\"any\")\n",
    "Data=Data.rename(columns={\"cup size\":\"cup_size\",\"shoe size\":\"shoe_size\",\"shoe width\":\"shoe_width\",\"bra size\":\"bra_size\"})"
   ]
  },
  {
   "cell_type": "markdown",
   "metadata": {},
   "source": [
    "## Checking for Misiing Values "
   ]
  },
  {
   "cell_type": "code",
   "execution_count": 4,
   "metadata": {},
   "outputs": [
    {
     "data": {
      "text/plain": [
       "0"
      ]
     },
     "execution_count": 4,
     "metadata": {},
     "output_type": "execute_result"
    }
   ],
   "source": [
    "Data.isnull().sum().sum()"
   ]
  },
  {
   "cell_type": "markdown",
   "metadata": {},
   "source": [
    "## Understanding of Data"
   ]
  },
  {
   "cell_type": "markdown",
   "metadata": {},
   "source": [
    "Data.info()"
   ]
  },
  {
   "cell_type": "code",
   "execution_count": 6,
   "metadata": {},
   "outputs": [
    {
     "data": {
      "text/html": [
       "<div>\n",
       "<style scoped>\n",
       "    .dataframe tbody tr th:only-of-type {\n",
       "        vertical-align: middle;\n",
       "    }\n",
       "\n",
       "    .dataframe tbody tr th {\n",
       "        vertical-align: top;\n",
       "    }\n",
       "\n",
       "    .dataframe thead th {\n",
       "        text-align: right;\n",
       "    }\n",
       "</style>\n",
       "<table border=\"1\" class=\"dataframe\">\n",
       "  <thead>\n",
       "    <tr style=\"text-align: right;\">\n",
       "      <th></th>\n",
       "      <th>bra_size</th>\n",
       "      <th>hips</th>\n",
       "      <th>item_id</th>\n",
       "      <th>quality</th>\n",
       "      <th>shoe_size</th>\n",
       "      <th>size</th>\n",
       "      <th>user_id</th>\n",
       "      <th>waist</th>\n",
       "    </tr>\n",
       "  </thead>\n",
       "  <tbody>\n",
       "    <tr>\n",
       "      <th>count</th>\n",
       "      <td>520.000000</td>\n",
       "      <td>520.000000</td>\n",
       "      <td>520.000000</td>\n",
       "      <td>520.000000</td>\n",
       "      <td>520.000000</td>\n",
       "      <td>520.000000</td>\n",
       "      <td>520.000000</td>\n",
       "      <td>520.000000</td>\n",
       "    </tr>\n",
       "    <tr>\n",
       "      <th>mean</th>\n",
       "      <td>35.107692</td>\n",
       "      <td>40.205769</td>\n",
       "      <td>469902.419231</td>\n",
       "      <td>4.240385</td>\n",
       "      <td>8.100000</td>\n",
       "      <td>10.651923</td>\n",
       "      <td>527078.598077</td>\n",
       "      <td>31.030769</td>\n",
       "    </tr>\n",
       "    <tr>\n",
       "      <th>std</th>\n",
       "      <td>2.941291</td>\n",
       "      <td>4.772873</td>\n",
       "      <td>193039.061854</td>\n",
       "      <td>0.948533</td>\n",
       "      <td>1.848449</td>\n",
       "      <td>6.463175</td>\n",
       "      <td>286720.883138</td>\n",
       "      <td>4.662710</td>\n",
       "    </tr>\n",
       "    <tr>\n",
       "      <th>min</th>\n",
       "      <td>28.000000</td>\n",
       "      <td>30.000000</td>\n",
       "      <td>154411.000000</td>\n",
       "      <td>1.000000</td>\n",
       "      <td>5.000000</td>\n",
       "      <td>1.000000</td>\n",
       "      <td>1807.000000</td>\n",
       "      <td>22.000000</td>\n",
       "    </tr>\n",
       "    <tr>\n",
       "      <th>25%</th>\n",
       "      <td>34.000000</td>\n",
       "      <td>37.000000</td>\n",
       "      <td>302857.000000</td>\n",
       "      <td>4.000000</td>\n",
       "      <td>7.000000</td>\n",
       "      <td>8.000000</td>\n",
       "      <td>300859.750000</td>\n",
       "      <td>28.000000</td>\n",
       "    </tr>\n",
       "    <tr>\n",
       "      <th>50%</th>\n",
       "      <td>34.000000</td>\n",
       "      <td>39.000000</td>\n",
       "      <td>471620.000000</td>\n",
       "      <td>5.000000</td>\n",
       "      <td>8.000000</td>\n",
       "      <td>8.000000</td>\n",
       "      <td>528979.000000</td>\n",
       "      <td>30.000000</td>\n",
       "    </tr>\n",
       "    <tr>\n",
       "      <th>75%</th>\n",
       "      <td>36.000000</td>\n",
       "      <td>42.000000</td>\n",
       "      <td>645888.500000</td>\n",
       "      <td>5.000000</td>\n",
       "      <td>9.000000</td>\n",
       "      <td>12.250000</td>\n",
       "      <td>784264.000000</td>\n",
       "      <td>34.000000</td>\n",
       "    </tr>\n",
       "    <tr>\n",
       "      <th>max</th>\n",
       "      <td>46.000000</td>\n",
       "      <td>60.000000</td>\n",
       "      <td>807384.000000</td>\n",
       "      <td>5.000000</td>\n",
       "      <td>38.000000</td>\n",
       "      <td>38.000000</td>\n",
       "      <td>998734.000000</td>\n",
       "      <td>50.000000</td>\n",
       "    </tr>\n",
       "  </tbody>\n",
       "</table>\n",
       "</div>"
      ],
      "text/plain": [
       "         bra_size        hips        item_id     quality   shoe_size  \\\n",
       "count  520.000000  520.000000     520.000000  520.000000  520.000000   \n",
       "mean    35.107692   40.205769  469902.419231    4.240385    8.100000   \n",
       "std      2.941291    4.772873  193039.061854    0.948533    1.848449   \n",
       "min     28.000000   30.000000  154411.000000    1.000000    5.000000   \n",
       "25%     34.000000   37.000000  302857.000000    4.000000    7.000000   \n",
       "50%     34.000000   39.000000  471620.000000    5.000000    8.000000   \n",
       "75%     36.000000   42.000000  645888.500000    5.000000    9.000000   \n",
       "max     46.000000   60.000000  807384.000000    5.000000   38.000000   \n",
       "\n",
       "             size        user_id       waist  \n",
       "count  520.000000     520.000000  520.000000  \n",
       "mean    10.651923  527078.598077   31.030769  \n",
       "std      6.463175  286720.883138    4.662710  \n",
       "min      1.000000    1807.000000   22.000000  \n",
       "25%      8.000000  300859.750000   28.000000  \n",
       "50%      8.000000  528979.000000   30.000000  \n",
       "75%     12.250000  784264.000000   34.000000  \n",
       "max     38.000000  998734.000000   50.000000  "
      ]
     },
     "execution_count": 6,
     "metadata": {},
     "output_type": "execute_result"
    }
   ],
   "source": [
    "Data.describe() "
   ]
  },
  {
   "cell_type": "markdown",
   "metadata": {},
   "source": [
    "## Checking for Unique Values for Object Data Types"
   ]
  },
  {
   "cell_type": "markdown",
   "metadata": {},
   "source": [
    "print(Data.bra_size.unique())\n",
    "print(Data.bust.unique())\n",
    "print(Data.category.unique())\n",
    "print(Data.cup_size.unique ())\n",
    "print(Data.fit.unique())\n",
    "print(Data.height.unique())\n",
    "print(Data.hips.unique())\n",
    "print(Data.length.unique())\n",
    "print(Data.shoe_width.unique())\n",
    "print(Data.quality.unique())"
   ]
  },
  {
   "cell_type": "code",
   "execution_count": 8,
   "metadata": {},
   "outputs": [],
   "source": [
    "Data=Data.drop([\"review_summary\",\"review_text\",\"user_id\",\"user_name\"],axis=\"columns\")"
   ]
  },
  {
   "cell_type": "markdown",
   "metadata": {},
   "source": [
    "## One Hot Encoding for catgorical values"
   ]
  },
  {
   "cell_type": "code",
   "execution_count": 9,
   "metadata": {},
   "outputs": [
    {
     "data": {
      "text/html": [
       "<div>\n",
       "<style scoped>\n",
       "    .dataframe tbody tr th:only-of-type {\n",
       "        vertical-align: middle;\n",
       "    }\n",
       "\n",
       "    .dataframe tbody tr th {\n",
       "        vertical-align: top;\n",
       "    }\n",
       "\n",
       "    .dataframe thead th {\n",
       "        text-align: right;\n",
       "    }\n",
       "</style>\n",
       "<table border=\"1\" class=\"dataframe\">\n",
       "  <thead>\n",
       "    <tr style=\"text-align: right;\">\n",
       "      <th></th>\n",
       "      <th>item_id</th>\n",
       "      <th>bra_size_30.0</th>\n",
       "      <th>bra_size_32.0</th>\n",
       "      <th>bra_size_34.0</th>\n",
       "      <th>bra_size_36.0</th>\n",
       "      <th>bra_size_38.0</th>\n",
       "      <th>bra_size_40.0</th>\n",
       "      <th>bra_size_42.0</th>\n",
       "      <th>bra_size_44.0</th>\n",
       "      <th>bra_size_46.0</th>\n",
       "      <th>...</th>\n",
       "      <th>size_11</th>\n",
       "      <th>size_12</th>\n",
       "      <th>size_13</th>\n",
       "      <th>size_15</th>\n",
       "      <th>size_18</th>\n",
       "      <th>size_20</th>\n",
       "      <th>size_26</th>\n",
       "      <th>size_32</th>\n",
       "      <th>size_33</th>\n",
       "      <th>size_38</th>\n",
       "    </tr>\n",
       "  </thead>\n",
       "  <tbody>\n",
       "    <tr>\n",
       "      <th>71869</th>\n",
       "      <td>749759</td>\n",
       "      <td>0</td>\n",
       "      <td>0</td>\n",
       "      <td>0</td>\n",
       "      <td>0</td>\n",
       "      <td>1</td>\n",
       "      <td>0</td>\n",
       "      <td>0</td>\n",
       "      <td>0</td>\n",
       "      <td>0</td>\n",
       "      <td>...</td>\n",
       "      <td>0</td>\n",
       "      <td>0</td>\n",
       "      <td>0</td>\n",
       "      <td>1</td>\n",
       "      <td>0</td>\n",
       "      <td>0</td>\n",
       "      <td>0</td>\n",
       "      <td>0</td>\n",
       "      <td>0</td>\n",
       "      <td>0</td>\n",
       "    </tr>\n",
       "    <tr>\n",
       "      <th>38271</th>\n",
       "      <td>418224</td>\n",
       "      <td>0</td>\n",
       "      <td>0</td>\n",
       "      <td>0</td>\n",
       "      <td>0</td>\n",
       "      <td>1</td>\n",
       "      <td>0</td>\n",
       "      <td>0</td>\n",
       "      <td>0</td>\n",
       "      <td>0</td>\n",
       "      <td>...</td>\n",
       "      <td>0</td>\n",
       "      <td>0</td>\n",
       "      <td>0</td>\n",
       "      <td>0</td>\n",
       "      <td>0</td>\n",
       "      <td>0</td>\n",
       "      <td>0</td>\n",
       "      <td>0</td>\n",
       "      <td>0</td>\n",
       "      <td>0</td>\n",
       "    </tr>\n",
       "  </tbody>\n",
       "</table>\n",
       "<p>2 rows × 163 columns</p>\n",
       "</div>"
      ],
      "text/plain": [
       "       item_id  bra_size_30.0  bra_size_32.0  bra_size_34.0  bra_size_36.0  \\\n",
       "71869   749759              0              0              0              0   \n",
       "38271   418224              0              0              0              0   \n",
       "\n",
       "       bra_size_38.0  bra_size_40.0  bra_size_42.0  bra_size_44.0  \\\n",
       "71869              1              0              0              0   \n",
       "38271              1              0              0              0   \n",
       "\n",
       "       bra_size_46.0  ...  size_11  size_12  size_13  size_15  size_18  \\\n",
       "71869              0  ...        0        0        0        1        0   \n",
       "38271              0  ...        0        0        0        0        0   \n",
       "\n",
       "       size_20  size_26  size_32  size_33  size_38  \n",
       "71869        0        0        0        0        0  \n",
       "38271        0        0        0        0        0  \n",
       "\n",
       "[2 rows x 163 columns]"
      ]
     },
     "execution_count": 9,
     "metadata": {},
     "output_type": "execute_result"
    }
   ],
   "source": [
    "Data_dummies=pd.get_dummies(Data,columns=[\"bra_size\",\"bust\",\"category\",\"cup_size\",\"fit\",\"height\",\"hips\",\"length\",\"quality\",\"shoe_size\",\"shoe_width\",\"waist\",\"size\"],drop_first=True)\n",
    "Data_dummies.sample(2)"
   ]
  },
  {
   "cell_type": "markdown",
   "metadata": {},
   "source": [
    "## Checking For Co_relation Matrix"
   ]
  },
  {
   "cell_type": "code",
   "execution_count": 10,
   "metadata": {},
   "outputs": [
    {
     "data": {
      "text/html": [
       "<div>\n",
       "<style scoped>\n",
       "    .dataframe tbody tr th:only-of-type {\n",
       "        vertical-align: middle;\n",
       "    }\n",
       "\n",
       "    .dataframe tbody tr th {\n",
       "        vertical-align: top;\n",
       "    }\n",
       "\n",
       "    .dataframe thead th {\n",
       "        text-align: right;\n",
       "    }\n",
       "</style>\n",
       "<table border=\"1\" class=\"dataframe\">\n",
       "  <thead>\n",
       "    <tr style=\"text-align: right;\">\n",
       "      <th></th>\n",
       "      <th>item_id</th>\n",
       "      <th>bra_size_30.0</th>\n",
       "      <th>bra_size_32.0</th>\n",
       "      <th>bra_size_34.0</th>\n",
       "      <th>bra_size_36.0</th>\n",
       "      <th>bra_size_38.0</th>\n",
       "      <th>bra_size_40.0</th>\n",
       "      <th>bra_size_42.0</th>\n",
       "      <th>bra_size_44.0</th>\n",
       "      <th>bra_size_46.0</th>\n",
       "      <th>...</th>\n",
       "      <th>size_11</th>\n",
       "      <th>size_12</th>\n",
       "      <th>size_13</th>\n",
       "      <th>size_15</th>\n",
       "      <th>size_18</th>\n",
       "      <th>size_20</th>\n",
       "      <th>size_26</th>\n",
       "      <th>size_32</th>\n",
       "      <th>size_33</th>\n",
       "      <th>size_38</th>\n",
       "    </tr>\n",
       "  </thead>\n",
       "  <tbody>\n",
       "    <tr>\n",
       "      <th>item_id</th>\n",
       "      <td>1.000000</td>\n",
       "      <td>0.009574</td>\n",
       "      <td>-0.054754</td>\n",
       "      <td>0.007176</td>\n",
       "      <td>-0.007000</td>\n",
       "      <td>0.029740</td>\n",
       "      <td>-0.018746</td>\n",
       "      <td>0.044895</td>\n",
       "      <td>0.009107</td>\n",
       "      <td>0.044511</td>\n",
       "      <td>...</td>\n",
       "      <td>-0.072319</td>\n",
       "      <td>0.058420</td>\n",
       "      <td>-0.070174</td>\n",
       "      <td>0.079218</td>\n",
       "      <td>-0.099493</td>\n",
       "      <td>0.070005</td>\n",
       "      <td>0.016930</td>\n",
       "      <td>-0.002161</td>\n",
       "      <td>-0.070174</td>\n",
       "      <td>0.008326</td>\n",
       "    </tr>\n",
       "    <tr>\n",
       "      <th>bra_size_30.0</th>\n",
       "      <td>0.009574</td>\n",
       "      <td>1.000000</td>\n",
       "      <td>-0.098797</td>\n",
       "      <td>-0.126747</td>\n",
       "      <td>-0.109545</td>\n",
       "      <td>-0.087162</td>\n",
       "      <td>-0.042037</td>\n",
       "      <td>-0.030739</td>\n",
       "      <td>-0.021608</td>\n",
       "      <td>-0.012427</td>\n",
       "      <td>...</td>\n",
       "      <td>-0.015235</td>\n",
       "      <td>-0.028444</td>\n",
       "      <td>-0.008779</td>\n",
       "      <td>-0.046216</td>\n",
       "      <td>-0.012427</td>\n",
       "      <td>-0.048606</td>\n",
       "      <td>-0.042037</td>\n",
       "      <td>-0.025000</td>\n",
       "      <td>-0.008779</td>\n",
       "      <td>-0.008779</td>\n",
       "    </tr>\n",
       "  </tbody>\n",
       "</table>\n",
       "<p>2 rows × 163 columns</p>\n",
       "</div>"
      ],
      "text/plain": [
       "                item_id  bra_size_30.0  bra_size_32.0  bra_size_34.0  \\\n",
       "item_id        1.000000       0.009574      -0.054754       0.007176   \n",
       "bra_size_30.0  0.009574       1.000000      -0.098797      -0.126747   \n",
       "\n",
       "               bra_size_36.0  bra_size_38.0  bra_size_40.0  bra_size_42.0  \\\n",
       "item_id            -0.007000       0.029740      -0.018746       0.044895   \n",
       "bra_size_30.0      -0.109545      -0.087162      -0.042037      -0.030739   \n",
       "\n",
       "               bra_size_44.0  bra_size_46.0  ...   size_11   size_12  \\\n",
       "item_id             0.009107       0.044511  ... -0.072319  0.058420   \n",
       "bra_size_30.0      -0.021608      -0.012427  ... -0.015235 -0.028444   \n",
       "\n",
       "                size_13   size_15   size_18   size_20   size_26   size_32  \\\n",
       "item_id       -0.070174  0.079218 -0.099493  0.070005  0.016930 -0.002161   \n",
       "bra_size_30.0 -0.008779 -0.046216 -0.012427 -0.048606 -0.042037 -0.025000   \n",
       "\n",
       "                size_33   size_38  \n",
       "item_id       -0.070174  0.008326  \n",
       "bra_size_30.0 -0.008779 -0.008779  \n",
       "\n",
       "[2 rows x 163 columns]"
      ]
     },
     "execution_count": 10,
     "metadata": {},
     "output_type": "execute_result"
    }
   ],
   "source": [
    "corrmatrix=Data_dummies.corr()\n",
    "corrmatrix.head(2)"
   ]
  },
  {
   "cell_type": "code",
   "execution_count": 11,
   "metadata": {},
   "outputs": [],
   "source": [
    "def getCorrelatedFeature(corrdata, threshold):\n",
    "    feature = []\n",
    "    value = []\n",
    "    \n",
    "    for i, index in enumerate(corrdata.index):\n",
    "        if abs(corrdata[index])> threshold:\n",
    "            feature.append(index)\n",
    "            value.append(corrdata[index])\n",
    "            \n",
    "    df = pd.DataFrame(data = value, index = feature, columns=['Corr Value'])\n",
    "    return df    "
   ]
  },
  {
   "cell_type": "code",
   "execution_count": 12,
   "metadata": {},
   "outputs": [
    {
     "data": {
      "text/plain": [
       "array(['item_id', 'category_dresses', 'category_outerwear',\n",
       "       'category_sale', 'category_tops', 'cup_size_b', 'shoe_size_6.0',\n",
       "       'shoe_size_7.5', 'waist_30.0', 'size_4'], dtype=object)"
      ]
     },
     "execution_count": 12,
     "metadata": {},
     "output_type": "execute_result"
    }
   ],
   "source": [
    "threshold = 0.10\n",
    "corr_value = getCorrelatedFeature(corrmatrix['item_id'], threshold)\n",
    "corr_value.index.values"
   ]
  },
  {
   "cell_type": "code",
   "execution_count": 13,
   "metadata": {},
   "outputs": [
    {
     "data": {
      "text/html": [
       "<div>\n",
       "<style scoped>\n",
       "    .dataframe tbody tr th:only-of-type {\n",
       "        vertical-align: middle;\n",
       "    }\n",
       "\n",
       "    .dataframe tbody tr th {\n",
       "        vertical-align: top;\n",
       "    }\n",
       "\n",
       "    .dataframe thead th {\n",
       "        text-align: right;\n",
       "    }\n",
       "</style>\n",
       "<table border=\"1\" class=\"dataframe\">\n",
       "  <thead>\n",
       "    <tr style=\"text-align: right;\">\n",
       "      <th></th>\n",
       "      <th>item_id</th>\n",
       "      <th>category_dresses</th>\n",
       "      <th>category_outerwear</th>\n",
       "      <th>category_sale</th>\n",
       "      <th>category_tops</th>\n",
       "      <th>cup_size_b</th>\n",
       "      <th>shoe_size_6.0</th>\n",
       "      <th>shoe_size_7.5</th>\n",
       "      <th>waist_30.0</th>\n",
       "      <th>size_4</th>\n",
       "    </tr>\n",
       "  </thead>\n",
       "  <tbody>\n",
       "    <tr>\n",
       "      <th>cup_size_c</th>\n",
       "      <td>0.077175</td>\n",
       "      <td>0.003679</td>\n",
       "      <td>0.016159</td>\n",
       "      <td>-0.063884</td>\n",
       "      <td>-0.013405</td>\n",
       "      <td>-0.322832</td>\n",
       "      <td>0.008169</td>\n",
       "      <td>-0.070666</td>\n",
       "      <td>-0.050415</td>\n",
       "      <td>0.115116</td>\n",
       "    </tr>\n",
       "    <tr>\n",
       "      <th>size_12</th>\n",
       "      <td>0.058420</td>\n",
       "      <td>-0.087323</td>\n",
       "      <td>0.092484</td>\n",
       "      <td>-0.013761</td>\n",
       "      <td>0.072844</td>\n",
       "      <td>-0.001467</td>\n",
       "      <td>-0.084060</td>\n",
       "      <td>0.066840</td>\n",
       "      <td>0.242533</td>\n",
       "      <td>-0.229498</td>\n",
       "    </tr>\n",
       "    <tr>\n",
       "      <th>height_5ft 1in</th>\n",
       "      <td>0.010723</td>\n",
       "      <td>-0.061852</td>\n",
       "      <td>-0.036768</td>\n",
       "      <td>0.038300</td>\n",
       "      <td>0.045491</td>\n",
       "      <td>-0.062806</td>\n",
       "      <td>-0.042037</td>\n",
       "      <td>-0.055227</td>\n",
       "      <td>-0.078881</td>\n",
       "      <td>0.017518</td>\n",
       "    </tr>\n",
       "  </tbody>\n",
       "</table>\n",
       "</div>"
      ],
      "text/plain": [
       "                 item_id  category_dresses  category_outerwear  category_sale  \\\n",
       "cup_size_c      0.077175          0.003679            0.016159      -0.063884   \n",
       "size_12         0.058420         -0.087323            0.092484      -0.013761   \n",
       "height_5ft 1in  0.010723         -0.061852           -0.036768       0.038300   \n",
       "\n",
       "                category_tops  cup_size_b  shoe_size_6.0  shoe_size_7.5  \\\n",
       "cup_size_c          -0.013405   -0.322832       0.008169      -0.070666   \n",
       "size_12              0.072844   -0.001467      -0.084060       0.066840   \n",
       "height_5ft 1in       0.045491   -0.062806      -0.042037      -0.055227   \n",
       "\n",
       "                waist_30.0    size_4  \n",
       "cup_size_c       -0.050415  0.115116  \n",
       "size_12           0.242533 -0.229498  \n",
       "height_5ft 1in   -0.078881  0.017518  "
      ]
     },
     "execution_count": 13,
     "metadata": {},
     "output_type": "execute_result"
    }
   ],
   "source": [
    "correlated_data =corrmatrix[corr_value.index]\n",
    "correlated_data.sample(3)"
   ]
  },
  {
   "cell_type": "code",
   "execution_count": 14,
   "metadata": {},
   "outputs": [],
   "source": [
    "x=correlated_data.drop(\"item_id\",axis=1)\n",
    "y=correlated_data[[\"item_id\"]]"
   ]
  },
  {
   "cell_type": "markdown",
   "metadata": {},
   "source": [
    "## Model Profiling: Spliting the Data into Train nd Test"
   ]
  },
  {
   "cell_type": "code",
   "execution_count": 15,
   "metadata": {},
   "outputs": [],
   "source": [
    "from sklearn.model_selection import train_test_split\n",
    "x_train,x_test,y_train,y_test=train_test_split(x,y,test_size=0.3,random_state=10)"
   ]
  },
  {
   "cell_type": "markdown",
   "metadata": {},
   "source": [
    "## Model Building Using Linear Regression"
   ]
  },
  {
   "cell_type": "code",
   "execution_count": 16,
   "metadata": {},
   "outputs": [],
   "source": [
    "from sklearn.linear_model import LinearRegression\n",
    "LR=LinearRegression()\n",
    "LR.fit(x_train,y_train)\n",
    "\n",
    "predicted_op=LR.predict(x_test)"
   ]
  },
  {
   "cell_type": "markdown",
   "metadata": {},
   "source": [
    "## Creating Residuals (Actual-Predicted)"
   ]
  },
  {
   "cell_type": "code",
   "execution_count": 17,
   "metadata": {},
   "outputs": [
    {
     "data": {
      "text/html": [
       "<div>\n",
       "<style scoped>\n",
       "    .dataframe tbody tr th:only-of-type {\n",
       "        vertical-align: middle;\n",
       "    }\n",
       "\n",
       "    .dataframe tbody tr th {\n",
       "        vertical-align: top;\n",
       "    }\n",
       "\n",
       "    .dataframe thead th {\n",
       "        text-align: right;\n",
       "    }\n",
       "</style>\n",
       "<table border=\"1\" class=\"dataframe\">\n",
       "  <thead>\n",
       "    <tr style=\"text-align: right;\">\n",
       "      <th></th>\n",
       "      <th>item_id</th>\n",
       "    </tr>\n",
       "  </thead>\n",
       "  <tbody>\n",
       "    <tr>\n",
       "      <th>bust_56</th>\n",
       "      <td>0.016303</td>\n",
       "    </tr>\n",
       "    <tr>\n",
       "      <th>waist_37.0</th>\n",
       "      <td>-0.002857</td>\n",
       "    </tr>\n",
       "  </tbody>\n",
       "</table>\n",
       "</div>"
      ],
      "text/plain": [
       "             item_id\n",
       "bust_56     0.016303\n",
       "waist_37.0 -0.002857"
      ]
     },
     "execution_count": 17,
     "metadata": {},
     "output_type": "execute_result"
    }
   ],
   "source": [
    "Residuals=y_test -predicted_op\n",
    "Residuals.head(2)"
   ]
  },
  {
   "cell_type": "markdown",
   "metadata": {},
   "source": [
    "## Model Validation /Model Fit\n",
    "- Higher the Rsquare\n",
    "- Lower the MAPE (Mean absolute error/Mean absolute percentage)\n",
    "- Good Fit Chart"
   ]
  },
  {
   "cell_type": "code",
   "execution_count": 18,
   "metadata": {},
   "outputs": [
    {
     "name": "stdout",
     "output_type": "stream",
     "text": [
      "Rsquare value : 0.524660770174177\n",
      "MAE value: 0.027480507211435187\n",
      "MAP value: 0.0019861346382916427\n"
     ]
    }
   ],
   "source": [
    "from sklearn.metrics import mean_absolute_error,mean_squared_error,r2_score \n",
    "\n",
    "aa=r2_score(y_test,predicted_op)\n",
    "bb=mean_absolute_error(y_test,predicted_op)\n",
    "cc=mean_squared_error(y_test,predicted_op)\n",
    "\n",
    "print(\"Rsquare value :\",aa) \n",
    "print(\"MAE value:\" ,bb)\n",
    "print(\"MAP value:\",cc)"
   ]
  },
  {
   "cell_type": "markdown",
   "metadata": {},
   "source": [
    "** My model Explaining 52 % of Variation in my model **"
   ]
  },
  {
   "cell_type": "markdown",
   "metadata": {},
   "source": [
    "# Assumption of Linear Regression\n",
    "1.Residuals should have Constant Variance \n",
    "\n",
    "2.Residuals Normaley Distributed\n",
    "\n",
    "3.Linearitey  :scatterplot(Residuals vs Each IDV)\n",
    "\n",
    "4.VIF  (Less then 60%)\n",
    "\n",
    "5.Good Fit cahart :( predicted_op vs Actual_op /y_test) "
   ]
  },
  {
   "cell_type": "code",
   "execution_count": 19,
   "metadata": {},
   "outputs": [
    {
     "data": {
      "text/html": [
       "<div>\n",
       "<style scoped>\n",
       "    .dataframe tbody tr th:only-of-type {\n",
       "        vertical-align: middle;\n",
       "    }\n",
       "\n",
       "    .dataframe tbody tr th {\n",
       "        vertical-align: top;\n",
       "    }\n",
       "\n",
       "    .dataframe thead th {\n",
       "        text-align: right;\n",
       "    }\n",
       "</style>\n",
       "<table border=\"1\" class=\"dataframe\">\n",
       "  <thead>\n",
       "    <tr style=\"text-align: right;\">\n",
       "      <th></th>\n",
       "      <th>item_id</th>\n",
       "    </tr>\n",
       "  </thead>\n",
       "  <tbody>\n",
       "    <tr>\n",
       "      <th>waist_33.0</th>\n",
       "      <td>-0.028110</td>\n",
       "    </tr>\n",
       "    <tr>\n",
       "      <th>bust_43</th>\n",
       "      <td>-0.015975</td>\n",
       "    </tr>\n",
       "  </tbody>\n",
       "</table>\n",
       "</div>"
      ],
      "text/plain": [
       "             item_id\n",
       "waist_33.0 -0.028110\n",
       "bust_43    -0.015975"
      ]
     },
     "execution_count": 19,
     "metadata": {},
     "output_type": "execute_result"
    }
   ],
   "source": [
    "Residuals=predicted_op-y_test\n",
    "Residuals.sample(2)"
   ]
  },
  {
   "cell_type": "markdown",
   "metadata": {},
   "source": [
    "### 1.Constant Variance Checking : scatterplot(Residuals,predicted_op) : No pattern in Variance :Homoscedasity"
   ]
  },
  {
   "cell_type": "code",
   "execution_count": 20,
   "metadata": {},
   "outputs": [
    {
     "data": {
      "text/plain": [
       "Text(0.5, 1.0, 'Varience checking:Homoscedasity')"
      ]
     },
     "execution_count": 20,
     "metadata": {},
     "output_type": "execute_result"
    },
    {
     "data": {
      "image/png": "[encoded data removed]",
      "text/plain": [
       "<Figure size 432x288 with 1 Axes>"
      ]
     },
     "metadata": {
      "needs_background": "light"
     },
     "output_type": "display_data"
    }
   ],
   "source": [
    "plt.scatter(predicted_op,Residuals,c=\"r\")\n",
    "plt.xlabel(\"Predicted _op\")\n",
    "plt.ylabel(\"Residuals\")\n",
    "plt.title(\"Varience checking:Homoscedasity\")"
   ]
  },
  {
   "cell_type": "markdown",
   "metadata": {},
   "source": [
    "- The Constant Variance of the model should be Homoscadasity,still above plot is little Funnel Shape (Hetroscadasity)\n",
    "- Homoscadasity :No shape in the model,\n",
    "- Hetroscadasity :Funnel shape"
   ]
  },
  {
   "cell_type": "markdown",
   "metadata": {},
   "source": [
    "### 2.Residuals should be  Noramley Distributed :symetrical :Mirror image of Residuals"
   ]
  },
  {
   "cell_type": "code",
   "execution_count": 21,
   "metadata": {},
   "outputs": [
    {
     "data": {
      "text/plain": [
       "Text(0.5, 0.98, 'Residuals are Normaley Distributed')"
      ]
     },
     "execution_count": 21,
     "metadata": {},
     "output_type": "execute_result"
    },
    {
     "data": {
      "image/png": "[encoded data removed]",
      "text/plain": [
       "<Figure size 432x288 with 1 Axes>"
      ]
     },
     "metadata": {
      "needs_background": "light"
     },
     "output_type": "display_data"
    }
   ],
   "source": [
    "sns.distplot((Residuals), bins = 20)\n",
    "plt.suptitle('Residuals are Normaley Distributed', fontsize = 20)       # Plot heading "
   ]
  },
  {
   "cell_type": "markdown",
   "metadata": {},
   "source": [
    "### 3.Good Fit chart"
   ]
  },
  {
   "cell_type": "code",
   "execution_count": 23,
   "metadata": {},
   "outputs": [
    {
     "data": {
      "text/plain": [
       "Text(0.5, 1.0, 'Actual vs Predicted op')"
      ]
     },
     "execution_count": 23,
     "metadata": {},
     "output_type": "execute_result"
    },
    {
     "data": {
      "image/png": "[encoded data removed]",
      "text/plain": [
       "<Figure size 432x288 with 1 Axes>"
      ]
     },
     "metadata": {
      "needs_background": "light"
     },
     "output_type": "display_data"
    }
   ],
   "source": [
    "plt.scatter(y_test,predicted_op)\n",
    "plt.xlabel(\"Actual_value\",fontsize=25)\n",
    "plt.ylabel(\"predicted_value\",fontsize=25)\n",
    "plt.title(\"Actual vs Predicted op\",fontsize=30)"
   ]
  },
  {
   "cell_type": "code",
   "execution_count": 24,
   "metadata": {},
   "outputs": [
    {
     "name": "stdout",
     "output_type": "stream",
     "text": [
      "<class 'pandas.core.frame.DataFrame'>\n",
      "<class 'numpy.ndarray'>\n"
     ]
    }
   ],
   "source": [
    "print(type(y_test))\n",
    "print(type(predicted_op))\n",
    "predicted_op=pd.DataFrame(predicted_op)"
   ]
  },
  {
   "cell_type": "code",
   "execution_count": 25,
   "metadata": {},
   "outputs": [
    {
     "data": {
      "text/html": [
       "<div>\n",
       "<style scoped>\n",
       "    .dataframe tbody tr th:only-of-type {\n",
       "        vertical-align: middle;\n",
       "    }\n",
       "\n",
       "    .dataframe tbody tr th {\n",
       "        vertical-align: top;\n",
       "    }\n",
       "\n",
       "    .dataframe thead th {\n",
       "        text-align: right;\n",
       "    }\n",
       "</style>\n",
       "<table border=\"1\" class=\"dataframe\">\n",
       "  <thead>\n",
       "    <tr style=\"text-align: right;\">\n",
       "      <th></th>\n",
       "      <th>item_id</th>\n",
       "      <th>0</th>\n",
       "    </tr>\n",
       "  </thead>\n",
       "  <tbody>\n",
       "    <tr>\n",
       "      <th>33</th>\n",
       "      <td>NaN</td>\n",
       "      <td>0.014289</td>\n",
       "    </tr>\n",
       "    <tr>\n",
       "      <th>quality_5.0</th>\n",
       "      <td>-0.041644</td>\n",
       "      <td>NaN</td>\n",
       "    </tr>\n",
       "  </tbody>\n",
       "</table>\n",
       "</div>"
      ],
      "text/plain": [
       "              item_id         0\n",
       "33                NaN  0.014289\n",
       "quality_5.0 -0.041644       NaN"
      ]
     },
     "execution_count": 25,
     "metadata": {},
     "output_type": "execute_result"
    }
   ],
   "source": [
    "model_op=pd.concat([y_test,predicted_op],axis=1)\n",
    "model_op.sample(2)"
   ]
  }
 ],
 "metadata": {
  "kernelspec": {
   "display_name": "Python 3",
   "language": "python",
   "name": "python3"
  },
  "language_info": {
   "codemirror_mode": {
    "name": "ipython",
    "version": 3
   },
   "file_extension": ".py",
   "mimetype": "text/x-python",
   "name": "python",
   "nbconvert_exporter": "python",
   "pygments_lexer": "ipython3",
   "version": "3.7.3"
  }
 },
 "nbformat": 4,
 "nbformat_minor": 2
}
